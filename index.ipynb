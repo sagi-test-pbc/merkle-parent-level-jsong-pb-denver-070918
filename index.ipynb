{
 "cells": [
  {
   "cell_type": "markdown",
   "metadata": {},
   "source": [
    "# Merkle Parent Level\n",
    "\n",
    "Given an ordered list of more than two hashes, we can calculate an entire list of parents, or what we call the Merkle Parent Level. If we have an even number of hashes, this is straightforward, as we can simply pair them up in order. If we have an odd number of hashes, then we need to do something else as we have a lone hash at the end.\n",
    "\n",
    "The Merkle Tree solution is to simply duplicate the last item. So, for a list like [A, B, C] what we do is add C again to get [A, B, C, C]. At this point, we can calculate the merkle parent of A and B and calculate the merkle parent of C and C to get:\n",
    "\n",
    "[H(A||B), H(C||C)]\n",
    "\n",
    "Note that since the Merkle Parent always consists of two hashes, we end up with exactly half the number of hashes before, rounded up. The rounding up is because an odd number of hashes is expanded to be one more.\n",
    "\n",
    "#### Exercise: Calculate the next Merkle Parent Level given these hashes\n",
    "```\n",
    "8b30c5ba100f6f2e5ad1e2a742e5020491240f8eb514fe97c713c31718ad7ecd\n",
    "7f4e6f9e224e20fda0ae4c44114237f97cd35aca38d83081c9bfd41feb907800\n",
    "ade48f2bbb57318cc79f3a8678febaa827599c509dce5940602e54c7733332e7\n",
    "68b3e2ab8182dfd646f13fdf01c335cf32476482d963f5cd94e934e6b3401069\n",
    "43e7274e77fbe8e5a42a8fb58f7decdb04d521f319f332d88e6b06f8e6c09e27\n",
    "4f492e893bf854111c36cb5eff4dccbdd51b576e1cfdc1b84b456cd1c0403ccb\n",
    "```"
   ]
  },
  {
   "cell_type": "code",
   "execution_count": null,
   "metadata": {},
   "outputs": [],
   "source": [
    "from helper import merkle_parent\n",
    "\n",
    "hex_hashes = [\n",
    "    '8b30c5ba100f6f2e5ad1e2a742e5020491240f8eb514fe97c713c31718ad7ecd',\n",
    "    '7f4e6f9e224e20fda0ae4c44114237f97cd35aca38d83081c9bfd41feb907800',\n",
    "    'ade48f2bbb57318cc79f3a8678febaa827599c509dce5940602e54c7733332e7',\n",
    "    '68b3e2ab8182dfd646f13fdf01c335cf32476482d963f5cd94e934e6b3401069',\n",
    "    '43e7274e77fbe8e5a42a8fb58f7decdb04d521f319f332d88e6b06f8e6c09e27',\n",
    "    '4f492e893bf854111c36cb5eff4dccbdd51b576e1cfdc1b84b456cd1c0403ccb',\n",
    "]\n",
    "\n",
    "# bytes.fromhex to get all the hashes in binary\n",
    "# initialize parent level\n",
    "# skip by two: use range(0, len(hashes), 2)\n",
    "    # calculate merkle_parent of i and i+1 hashes\n",
    "    # print the hash's hex\n",
    "    # add parent to parent level"
   ]
  },
  {
   "cell_type": "markdown",
   "metadata": {},
   "source": [
    "### Test Driven Example"
   ]
  },
  {
   "cell_type": "code",
   "execution_count": null,
   "metadata": {},
   "outputs": [],
   "source": [
    "def merkle_parent_level(hash_list):\n",
    "    '''Takes a list of binary hashes and returns a list that's half\n",
    "    the length'''\n",
    "    # Exercise 2.2: if the list has exactly 1 element raise an error\n",
    "    # Exercise 2.2: initialize next level\n",
    "    # Exercise 2.2: loop over every pair (use: for i in range(0, len(hash_list), 2))\n",
    "        # Exercise 2.2: get the merkle parent of i and i+1 hashes\n",
    "        # Exercise 2.2: append parent to parent level\n",
    "    # Exercise 2.2: return parent level\n",
    "    pass"
   ]
  }
 ],
 "metadata": {
  "kernelspec": {
   "display_name": "Python 3",
   "language": "python",
   "name": "python3"
  },
  "language_info": {
   "codemirror_mode": {
    "name": "ipython",
    "version": 3
   },
   "file_extension": ".py",
   "mimetype": "text/x-python",
   "name": "python",
   "nbconvert_exporter": "python",
   "pygments_lexer": "ipython3",
   "version": "3.6.4"
  }
 },
 "nbformat": 4,
 "nbformat_minor": 2
}
